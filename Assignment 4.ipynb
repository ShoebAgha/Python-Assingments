{
 "cells": [
  {
   "cell_type": "code",
   "execution_count": 2,
   "id": "1e8158a3",
   "metadata": {},
   "outputs": [],
   "source": [
    "#Write a Python Program to Find the Factorial of a Number?\n",
    "def Fact(Num):\n",
    "    while Num > 1:\n",
    "        Factorial=Num*(Num-1)\n",
    "        Num=Num-1\n",
    "        return Factorial"
   ]
  },
  {
   "cell_type": "code",
   "execution_count": 5,
   "id": "963e5ee2",
   "metadata": {},
   "outputs": [
    {
     "data": {
      "text/plain": [
       "90"
      ]
     },
     "execution_count": 5,
     "metadata": {},
     "output_type": "execute_result"
    }
   ],
   "source": [
    "Fact(10)"
   ]
  },
  {
   "cell_type": "code",
   "execution_count": 19,
   "id": "0225dd2a",
   "metadata": {},
   "outputs": [],
   "source": [
    "#Write a Python Program to Display the multiplication Table?\n",
    "def table(Num):\n",
    "    print('Table of {} is below'.format(Num))\n",
    "    for i in range(1,11):\n",
    "        print(Num,' X ',i,' = ',Num*i)"
   ]
  },
  {
   "cell_type": "code",
   "execution_count": 21,
   "id": "fb962c6c",
   "metadata": {},
   "outputs": [
    {
     "name": "stdout",
     "output_type": "stream",
     "text": [
      "Table of 100 is below\n",
      "100  X  1  =  100\n",
      "100  X  2  =  200\n",
      "100  X  3  =  300\n",
      "100  X  4  =  400\n",
      "100  X  5  =  500\n",
      "100  X  6  =  600\n",
      "100  X  7  =  700\n",
      "100  X  8  =  800\n",
      "100  X  9  =  900\n",
      "100  X  10  =  1000\n"
     ]
    }
   ],
   "source": []
  },
  {
   "cell_type": "markdown",
   "id": "69eb22c0",
   "metadata": {},
   "source": []
  },
  {
   "cell_type": "code",
   "execution_count": 22,
   "id": "bb30aa58",
   "metadata": {},
   "outputs": [],
   "source": [
    "#Write a Python Program to Print the Fibonacci sequence?\n",
    "def Fibo(Num):\n",
    "    list=[0,1]\n",
    "    for i in range(2,Num+1):\n",
    "              sum=list[i-1]+list[i-2]\n",
    "              list.append(sum)\n",
    "    return list[1:]            "
   ]
  },
  {
   "cell_type": "code",
   "execution_count": 23,
   "id": "26dea03b",
   "metadata": {},
   "outputs": [
    {
     "data": {
      "text/plain": [
       "[1, 1, 2, 3, 5, 8, 13, 21, 34, 55]"
      ]
     },
     "execution_count": 23,
     "metadata": {},
     "output_type": "execute_result"
    }
   ],
   "source": [
    "Fibo(10)"
   ]
  },
  {
   "cell_type": "code",
   "execution_count": 85,
   "id": "0d9d32f5",
   "metadata": {},
   "outputs": [],
   "source": [
    "#Write a Python Program to Check Armstrong Number?\n",
    "def Check_Arm(Num):\n",
    "    Str1=str(Num)\n",
    "    list1=list(Str1)\n",
    "    list2=[]\n",
    "    power=len(list1)\n",
    "    Sum=0\n",
    "    for i in range(len(list1)):\n",
    "        list2.append(int(list1[i])**power)   \n",
    "    for i in range(len(list2)):\n",
    "        Sum=Sum+list2[i]\n",
    "    if Sum==Num:\n",
    "        print('Number is an Armstrong Number')\n",
    "    else:\n",
    "        print('Number is not an Armstrong Number')\n",
    "    "
   ]
  },
  {
   "cell_type": "code",
   "execution_count": 86,
   "id": "77ce602c",
   "metadata": {},
   "outputs": [
    {
     "name": "stdout",
     "output_type": "stream",
     "text": [
      "[27, 343, 0]\n",
      "Number is an Armstrong Number\n"
     ]
    }
   ],
   "source": [
    "Check_Arm(370)"
   ]
  },
  {
   "cell_type": "code",
   "execution_count": 83,
   "id": "075a9285",
   "metadata": {},
   "outputs": [],
   "source": [
    "#Write a Python Program to Find Armstrong Number in an Interval?\n",
    "def Arm_Interval(a,b):\n",
    "    Arm_Num=[]\n",
    "    for i in range(a,b+1):\n",
    "        Num=i\n",
    "        Str1=str(Num)\n",
    "        list1=list(Str1)\n",
    "        list2=[]\n",
    "        power=len(list1)\n",
    "        Sum=0\n",
    "        for i in range(len(list1)):\n",
    "            list2.append(int(list1[i])**power)   \n",
    "        for i in range(len(list2)):\n",
    "            Sum=Sum+list2[i]\n",
    "        if Sum==Num:\n",
    "            Arm_Num.append(Num)\n",
    "            \n",
    "        else:\n",
    "            continue\n",
    "    return Arm_Num       "
   ]
  },
  {
   "cell_type": "code",
   "execution_count": 84,
   "id": "eb618d44",
   "metadata": {},
   "outputs": [
    {
     "data": {
      "text/plain": [
       "[1, 2, 3, 4, 5, 6, 7, 8, 9, 153, 370, 371, 407, 1634, 8208, 9474]"
      ]
     },
     "execution_count": 84,
     "metadata": {},
     "output_type": "execute_result"
    }
   ],
   "source": [
    "Arm_Interval(1,10000)"
   ]
  },
  {
   "cell_type": "code",
   "execution_count": 79,
   "id": "89a1e789",
   "metadata": {},
   "outputs": [],
   "source": [
    "#Write a Python Program to Find the Sum of Natural Numbers?\n",
    "def Natural_Sum(Num):\n",
    "    Sum=Num*(Num+1)/2\n",
    "    return int(Sum)"
   ]
  },
  {
   "cell_type": "code",
   "execution_count": 82,
   "id": "7f5d9416",
   "metadata": {},
   "outputs": [
    {
     "data": {
      "text/plain": [
       "5050"
      ]
     },
     "execution_count": 82,
     "metadata": {},
     "output_type": "execute_result"
    }
   ],
   "source": [
    "Natural_Sum(100)"
   ]
  }
 ],
 "metadata": {
  "kernelspec": {
   "display_name": "Python 3 (ipykernel)",
   "language": "python",
   "name": "python3"
  },
  "language_info": {
   "codemirror_mode": {
    "name": "ipython",
    "version": 3
   },
   "file_extension": ".py",
   "mimetype": "text/x-python",
   "name": "python",
   "nbconvert_exporter": "python",
   "pygments_lexer": "ipython3",
   "version": "3.9.5"
  }
 },
 "nbformat": 4,
 "nbformat_minor": 5
}
