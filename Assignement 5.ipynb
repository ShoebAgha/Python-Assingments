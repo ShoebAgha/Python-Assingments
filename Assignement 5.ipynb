{
 "cells": [
  {
   "cell_type": "code",
   "execution_count": 3,
   "id": "f8073dd3",
   "metadata": {},
   "outputs": [
    {
     "name": "stdout",
     "output_type": "stream",
     "text": [
      "enter first number:4\n",
      "enter second number:2\n",
      "4 is the LCM\n"
     ]
    }
   ],
   "source": [
    "#Write a Python Program to Find LCM?\n",
    "num1=int(input('enter first number:'))\n",
    "num2=int(input('enter second number:'))\n",
    "\n",
    "if num1>num2:\n",
    "        x=num1\n",
    "else:\n",
    "        x=num2\n",
    "while(True):\n",
    "    if (x%num1==0)&(x%num2==0):\n",
    "            print(\"%d is the LCM\"%x)\n",
    "            break\n",
    "    else:\n",
    "            x=x+1"
   ]
  },
  {
   "cell_type": "code",
   "execution_count": 6,
   "id": "ecfed258",
   "metadata": {},
   "outputs": [
    {
     "name": "stdout",
     "output_type": "stream",
     "text": [
      "enter the first number:10\n",
      "enter the second number:15\n",
      "5 is the HCF of two numbers\n"
     ]
    }
   ],
   "source": [
    "#Write a Python Program to Find HCF?\n",
    "num1=int(input(\"enter the first number:\"))\n",
    "num2=int(input(\"enter the second number:\"))\n",
    "if num1<num2:\n",
    "        x=num1\n",
    "else:\n",
    "        x=num2\n",
    "list1=list()    \n",
    "for i in range(1,x+1):\n",
    "    if (num1/i==num1//i) & (num2/i==num2//i):\n",
    "            list1.append(i)\n",
    "    else:\n",
    "            continue\n",
    "y=max(list1)\n",
    "print(\"%d is the HCF of two numbers\"%y)"
   ]
  },
  {
   "cell_type": "code",
   "execution_count": 47,
   "id": "a75d0329",
   "metadata": {},
   "outputs": [],
   "source": [
    "#Write a Python Program to Convert Decimal to Binary, Octal and Hexadecimal?\n",
    "def Binary(Num):\n",
    "    list1=[]\n",
    "    while True:\n",
    "        if Num==1:\n",
    "            list1.append(1)\n",
    "            break\n",
    "        else:\n",
    "            Remainder=Num%2\n",
    "            list1.append(Remainder)\n",
    "            Num=Num//2\n",
    "    list2=list1[::-1]\n",
    "    return list2\n",
    "def Octal(Num):\n",
    "    list1=[]\n",
    "    while True:\n",
    "        if Num<=7:\n",
    "            list1.append(Num)\n",
    "            break\n",
    "        else:\n",
    "            Remainder=Num%8\n",
    "            list1.append(Remainder)\n",
    "            Num=Num//8\n",
    "    list2=list1[::-1]\n",
    "    return list2            \n",
    "def Hex(Num):\n",
    "    Dict1={10:'A',11:'B',12:'C',13:'D',14:'E',15:'F'}\n",
    "    list1=[]\n",
    "    while True:\n",
    "        if Num<=15:\n",
    "            if Num>9:\n",
    "                list1.append(Dict1[Num])\n",
    "                break\n",
    "            else:\n",
    "                list1.append(Num)\n",
    "                break\n",
    "        else:\n",
    "            Remainder=Num%16\n",
    "            if Remainder>9:\n",
    "                list1.append(Dict1[Remainder])\n",
    "            else:\n",
    "                list1.append(Remainder)\n",
    "            Num=Num//16\n",
    "    list2=list1[::-1]\n",
    "    return list2        \n",
    "        \n",
    "            \n",
    "            \n",
    "            "
   ]
  },
  {
   "cell_type": "code",
   "execution_count": 50,
   "id": "8fe997b5",
   "metadata": {},
   "outputs": [
    {
     "data": {
      "text/plain": [
       "['E']"
      ]
     },
     "execution_count": 50,
     "metadata": {},
     "output_type": "execute_result"
    }
   ],
   "source": [
    "Hex(14)"
   ]
  },
  {
   "cell_type": "code",
   "execution_count": 51,
   "id": "b966ac8e",
   "metadata": {},
   "outputs": [
    {
     "data": {
      "text/plain": [
       "[1, 0, 1, 0]"
      ]
     },
     "execution_count": 51,
     "metadata": {},
     "output_type": "execute_result"
    }
   ],
   "source": [
    "Binary(10)"
   ]
  },
  {
   "cell_type": "code",
   "execution_count": 52,
   "id": "b999f306",
   "metadata": {},
   "outputs": [
    {
     "data": {
      "text/plain": [
       "[1, 2]"
      ]
     },
     "execution_count": 52,
     "metadata": {},
     "output_type": "execute_result"
    }
   ],
   "source": [
    "Octal(10)"
   ]
  },
  {
   "cell_type": "code",
   "execution_count": 61,
   "id": "39f47ea4",
   "metadata": {},
   "outputs": [],
   "source": [
    "#Write a Python Program To Find ASCII value of a character?\n",
    "def ASCII(char):\n",
    "    char=str(char)\n",
    "    value=ord(char)\n",
    "    return value\n",
    "    "
   ]
  },
  {
   "cell_type": "code",
   "execution_count": 63,
   "id": "a5256ab9",
   "metadata": {},
   "outputs": [
    {
     "data": {
      "text/plain": [
       "49"
      ]
     },
     "execution_count": 63,
     "metadata": {},
     "output_type": "execute_result"
    }
   ],
   "source": [
    "ASCII(1)"
   ]
  },
  {
   "cell_type": "code",
   "execution_count": 64,
   "id": "25a0e7ce",
   "metadata": {},
   "outputs": [
    {
     "name": "stdout",
     "output_type": "stream",
     "text": [
      "Enter first number: 23\n",
      "Enter second number: 43\n",
      "Operation: +, -, *, /\n",
      "Select operations: +\n",
      "23.0 + 43.0 = 66.0\n"
     ]
    }
   ],
   "source": [
    "#Write a Python Program to Make a Simple Calculator with 4 basic mathematical operations?\n",
    "num1 = float(input(\"Enter first number: \"))\n",
    "num2 = float(input(\"Enter second number: \"))\n",
    "\n",
    "\n",
    "print(\"Operation: +, -, *, /\")\n",
    "select = input(\"Select operations: \")\n",
    "\n",
    "if select == \"+\":\n",
    "    print(num1, \"+\", num2, \"=\", num1+num2)\n",
    "\n",
    "elif select == \"-\":\n",
    "    print(num1, \"-\", num2, \"=\", num1-num2)\n",
    "\n",
    "elif select == \"*\":\n",
    "    print(num1, \"*\", num2, \"=\", num1*num2)\n",
    "\n",
    "elif select == \"/\":\n",
    "    print(num1, \"/\", num2, \"=\", num1/num2)\n",
    "\n",
    "else:\n",
    "    print(\"Invalid input\")"
   ]
  },
  {
   "cell_type": "code",
   "execution_count": null,
   "id": "827efc3b",
   "metadata": {},
   "outputs": [],
   "source": []
  }
 ],
 "metadata": {
  "kernelspec": {
   "display_name": "Python 3 (ipykernel)",
   "language": "python",
   "name": "python3"
  },
  "language_info": {
   "codemirror_mode": {
    "name": "ipython",
    "version": 3
   },
   "file_extension": ".py",
   "mimetype": "text/x-python",
   "name": "python",
   "nbconvert_exporter": "python",
   "pygments_lexer": "ipython3",
   "version": "3.9.5"
  }
 },
 "nbformat": 4,
 "nbformat_minor": 5
}
