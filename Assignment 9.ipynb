{
 "cells": [
  {
   "cell_type": "code",
   "execution_count": 6,
   "id": "4a74064f",
   "metadata": {},
   "outputs": [],
   "source": [
    "#Write a Python program to check if the given number is a Disarium Number?\n",
    "def disarium(Num):\n",
    "    list1=list(str(Num))\n",
    "    sum1=0\n",
    "    for i in range(len(list1)):\n",
    "        sum1=sum1+int(list1[i])**(i+1)\n",
    "    if sum1==Num:\n",
    "        print('Number is a Disarium number')\n",
    "    else:\n",
    "        print('Number is not a Disarium number')\n",
    "    return sum1    "
   ]
  },
  {
   "cell_type": "code",
   "execution_count": 8,
   "id": "e41f499d",
   "metadata": {},
   "outputs": [
    {
     "name": "stdout",
     "output_type": "stream",
     "text": [
      "Number is a Disarium number\n"
     ]
    },
    {
     "data": {
      "text/plain": [
       "89"
      ]
     },
     "execution_count": 8,
     "metadata": {},
     "output_type": "execute_result"
    }
   ],
   "source": [
    "disarium(89)"
   ]
  },
  {
   "cell_type": "code",
   "execution_count": 10,
   "id": "9ba3d157",
   "metadata": {},
   "outputs": [
    {
     "data": {
      "text/plain": [
       "[1, 2, 3, 4, 5, 6, 7, 8, 9, 89]"
      ]
     },
     "execution_count": 10,
     "metadata": {},
     "output_type": "execute_result"
    }
   ],
   "source": [
    "#Write a Python program to print all disarium numbers between 1 to 100?\n",
    "Num=1\n",
    "list2=[]\n",
    "while Num<101:\n",
    "    list1=list(str(Num))\n",
    "    sum1=0\n",
    "    for i in range(len(list1)):\n",
    "        sum1=sum1+int(list1[i])**(i+1)\n",
    "    if sum1==Num:\n",
    "        list2.append(Num)\n",
    "        Num=Num+1\n",
    "    else:\n",
    "        Num=Num+1\n",
    "        continue\n",
    "list2\n",
    "    \n"
   ]
  },
  {
   "cell_type": "code",
   "execution_count": 62,
   "id": "6bb293f8",
   "metadata": {},
   "outputs": [],
   "source": [
    "#Write a Python program to check if the given number is Happy Number?\n",
    "def HN(Num):\n",
    "    list1=list(str(Num))\n",
    "    st=set()\n",
    "    while True:\n",
    "        sum1=0\n",
    "        for i in range(len(list1)):\n",
    "            sum1=sum1+int(list1[i])**(2)\n",
    "        list1=list(str(sum1))\n",
    "        if sum1==1:\n",
    "            break    \n",
    "        elif sum1 in st:\n",
    "            break\n",
    "        else:\n",
    "            st.add(sum1)\n",
    "    if sum1==1:\n",
    "        return True\n",
    "    else:\n",
    "        return False\n",
    "    "
   ]
  },
  {
   "cell_type": "code",
   "execution_count": 63,
   "id": "ee6af60f",
   "metadata": {},
   "outputs": [
    {
     "data": {
      "text/plain": [
       "True"
      ]
     },
     "execution_count": 63,
     "metadata": {},
     "output_type": "execute_result"
    }
   ],
   "source": [
    "HN(7)"
   ]
  },
  {
   "cell_type": "code",
   "execution_count": 64,
   "id": "ab928b43",
   "metadata": {},
   "outputs": [
    {
     "data": {
      "text/plain": [
       "[1, 7, 10, 13, 19, 23, 28, 31, 32, 44, 49, 68, 70, 79, 82, 86, 91, 94, 97, 100]"
      ]
     },
     "execution_count": 64,
     "metadata": {},
     "output_type": "execute_result"
    }
   ],
   "source": [
    "#Write a Python program to print all happy numbers between 1 and 100?\n",
    "Num=1\n",
    "list2=[]\n",
    "while Num<101:\n",
    "    if HN(Num):\n",
    "        list2.append(Num)\n",
    "        Num=Num+1\n",
    "    else:\n",
    "        Num=Num+1\n",
    "list2        "
   ]
  },
  {
   "cell_type": "code",
   "execution_count": 66,
   "id": "115fa6b6",
   "metadata": {},
   "outputs": [],
   "source": [
    "#Write a Python program to determine whether the given number is a Harshad Number?\n",
    "def Harshad(num):\n",
    "    list1=list(str(num))\n",
    "    sum=0\n",
    "    for i in list1:\n",
    "        sum=sum+int(i)\n",
    "    if num%sum==0:\n",
    "        return True\n",
    "    else:\n",
    "        return False"
   ]
  },
  {
   "cell_type": "raw",
   "id": "f6c0722b",
   "metadata": {},
   "source": []
  },
  {
   "cell_type": "code",
   "execution_count": 67,
   "id": "3700e4e6",
   "metadata": {},
   "outputs": [
    {
     "data": {
      "text/plain": [
       "True"
      ]
     },
     "execution_count": 67,
     "metadata": {},
     "output_type": "execute_result"
    }
   ],
   "source": [
    "Harshad(666)"
   ]
  },
  {
   "cell_type": "code",
   "execution_count": 69,
   "id": "d5397521",
   "metadata": {},
   "outputs": [
    {
     "data": {
      "text/plain": [
       "[2, 6, 12, 20, 30, 42, 56, 72, 90]"
      ]
     },
     "execution_count": 69,
     "metadata": {},
     "output_type": "execute_result"
    }
   ],
   "source": [
    "#Write a Python program to print all pronic numbers between 1 and 100?\n",
    "def pronic(Num):\n",
    "    for i in range(1,Num):\n",
    "        prod=i*(i+1)\n",
    "        if prod==Num:\n",
    "            return True\n",
    "        elif prod>Num:\n",
    "            return False\n",
    "        else:\n",
    "            continue\n",
    "Num=1\n",
    "list2=[]\n",
    "while Num<101:\n",
    "    if pronic(Num):\n",
    "        list2.append(Num)\n",
    "        Num=Num+1\n",
    "    else:\n",
    "        Num=Num+1 \n",
    "list2"
   ]
  },
  {
   "cell_type": "code",
   "execution_count": null,
   "id": "26b67a89",
   "metadata": {},
   "outputs": [],
   "source": []
  }
 ],
 "metadata": {
  "kernelspec": {
   "display_name": "Python 3 (ipykernel)",
   "language": "python",
   "name": "python3"
  },
  "language_info": {
   "codemirror_mode": {
    "name": "ipython",
    "version": 3
   },
   "file_extension": ".py",
   "mimetype": "text/x-python",
   "name": "python",
   "nbconvert_exporter": "python",
   "pygments_lexer": "ipython3",
   "version": "3.9.5"
  }
 },
 "nbformat": 4,
 "nbformat_minor": 5
}
