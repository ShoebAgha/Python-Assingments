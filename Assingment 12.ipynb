{
 "cells": [
  {
   "cell_type": "code",
   "execution_count": 1,
   "id": "2624a291",
   "metadata": {},
   "outputs": [],
   "source": [
    " #Write a Python program to Extract Unique values dictionary values?\n"
   ]
  },
  {
   "cell_type": "code",
   "execution_count": 2,
   "id": "90139fad",
   "metadata": {},
   "outputs": [
    {
     "name": "stdout",
     "output_type": "stream",
     "text": [
      "The unique values list is : [1, 2, 5, 6, 7, 8, 10, 11, 12]\n"
     ]
    }
   ],
   "source": [
    "test_dict = {'gfg' : [5, 6, 7, 8],\n",
    "            'is' : [10, 11, 7, 5],\n",
    "            'best' : [6, 12, 10, 8],\n",
    "            'for' : [1, 2, 5]}\n",
    "x=[]\n",
    "for i in test_dict.keys():\n",
    "    x.extend(test_dict[i])\n",
    "x=list(set(x))\n",
    "x.sort()\n",
    "print(\"The unique values list is : \" + str(x))"
   ]
  },
  {
   "cell_type": "code",
   "execution_count": 3,
   "id": "42b57f52",
   "metadata": {},
   "outputs": [],
   "source": [
    "#Write a Python program to find the sum of all items in a dictionary?"
   ]
  },
  {
   "cell_type": "code",
   "execution_count": 20,
   "id": "e5b04394",
   "metadata": {},
   "outputs": [
    {
     "data": {
      "text/plain": [
       "1000"
      ]
     },
     "execution_count": 20,
     "metadata": {},
     "output_type": "execute_result"
    }
   ],
   "source": [
    "test_dict = {'gfg' : 100,\n",
    "            'is' : 200,\n",
    "            'best' : 300,\n",
    "            'for' : 400}\n",
    "list1=[]\n",
    "for i in test_dict:\n",
    "    list1.append(test_dict[i])\n",
    "final = sum(list1)\n",
    "final\n",
    "    "
   ]
  },
  {
   "cell_type": "code",
   "execution_count": 12,
   "id": "3b3f25a4",
   "metadata": {},
   "outputs": [],
   "source": [
    "#Write a Python program to Merging two Dictionaries?\n",
    "def merge_dict(dict1,dict2):\n",
    "    dict2.update(dict1)\n",
    "    return dict2\n"
   ]
  },
  {
   "cell_type": "code",
   "execution_count": 14,
   "id": "775d7ca1",
   "metadata": {},
   "outputs": [
    {
     "data": {
      "text/plain": [
       "{'d': 6, 'c': 4, 'a': 10, 'b': 8}"
      ]
     },
     "execution_count": 14,
     "metadata": {},
     "output_type": "execute_result"
    }
   ],
   "source": [
    "dict1 = {'a': 10, 'b': 8}\n",
    "dict2 = {'d': 6, 'c': 4}\n",
    "merge_dict(dict1,dict2)"
   ]
  },
  {
   "cell_type": "code",
   "execution_count": 23,
   "id": "9a634d47",
   "metadata": {},
   "outputs": [],
   "source": [
    "#Write a Python program to convert key-values list to flat dictionary?\n",
    "test_dict = {'month' : [1, 2, 3],\n",
    "             'name' : ['Jan', 'Feb', 'March']}\n",
    "res = dict(zip(test_dict['month'], test_dict['name']))"
   ]
  },
  {
   "cell_type": "code",
   "execution_count": 26,
   "id": "19236995",
   "metadata": {},
   "outputs": [
    {
     "name": "stdout",
     "output_type": "stream",
     "text": [
      "{1: 'Jan', 2: 'Feb', 3: 'March'}\n"
     ]
    }
   ],
   "source": [
    "print(res)"
   ]
  },
  {
   "cell_type": "code",
   "execution_count": 28,
   "id": "b5bdfc57",
   "metadata": {},
   "outputs": [
    {
     "data": {
      "text/plain": [
       "OrderedDict([('kuldeep', '3'), ('shoeb', '10'), ('nikhil', '2')])"
      ]
     },
     "execution_count": 28,
     "metadata": {},
     "output_type": "execute_result"
    }
   ],
   "source": [
    "#Write a Python program to insertion at the beginning in OrderedDict?\n",
    "from collections import OrderedDict\n",
    " \n",
    "inordered_dict = OrderedDict([('shoeb', '10'), ('nikhil', '2')])\n",
    " \n",
    "\n",
    "inordered_dict.update({'kuldeep':'3'})\n",
    "inordered_dict.move_to_end('kuldeep', last = False)\n",
    " \n",
    "inordered_dict"
   ]
  },
  {
   "cell_type": "code",
   "execution_count": 29,
   "id": "da4f6da6",
   "metadata": {},
   "outputs": [],
   "source": [
    "#Write a Python program to check order of character in string using OrderedDict()?\n",
    "from collections import OrderedDict \n",
    "  \n",
    "def checkOrder(input, pattern): \n",
    "      \n",
    "    dict = OrderedDict.fromkeys(input) \n",
    "    ptrlen = 0\n",
    "    for key,value in dict.items(): \n",
    "        if (key == pattern[ptrlen]): \n",
    "            ptrlen = ptrlen + 1\n",
    "        if (ptrlen == (len(pattern))): \n",
    "            return 'true'\n",
    "    return 'false'"
   ]
  },
  {
   "cell_type": "code",
   "execution_count": 32,
   "id": "2aa0ad26",
   "metadata": {},
   "outputs": [
    {
     "data": {
      "text/plain": [
       "'false'"
      ]
     },
     "execution_count": 32,
     "metadata": {},
     "output_type": "execute_result"
    }
   ],
   "source": [
    "checkOrder('All Good','dg')"
   ]
  },
  {
   "cell_type": "code",
   "execution_count": 35,
   "id": "fc9bfc32",
   "metadata": {},
   "outputs": [],
   "source": [
    "dict = OrderedDict.fromkeys('ABCED') "
   ]
  },
  {
   "cell_type": "code",
   "execution_count": 36,
   "id": "68527eea",
   "metadata": {},
   "outputs": [
    {
     "data": {
      "text/plain": [
       "OrderedDict([('A', None), ('B', None), ('C', None), ('E', None), ('D', None)])"
      ]
     },
     "execution_count": 36,
     "metadata": {},
     "output_type": "execute_result"
    }
   ],
   "source": [
    "dict"
   ]
  },
  {
   "cell_type": "code",
   "execution_count": 37,
   "id": "6e6b89c2",
   "metadata": {},
   "outputs": [
    {
     "name": "stdout",
     "output_type": "stream",
     "text": [
      "OrderedDict([('rajnish', '9'), ('ravi', '10'), ('sanjeev', '15'), ('suraj', '32'), ('yash', '2')])\n"
     ]
    }
   ],
   "source": [
    "#Write a Python program to sort Python Dictionaries by Key or Value?\n",
    "from collections import OrderedDict\n",
    " \n",
    "dict = {'ravi': '10', 'rajnish': '9',\n",
    "        'sanjeev': '15', 'yash': '2', 'suraj': '32'}\n",
    "dict1 = OrderedDict(sorted(dict.items()))\n",
    "print(dict1)"
   ]
  },
  {
   "cell_type": "code",
   "execution_count": null,
   "id": "4fd938f0",
   "metadata": {},
   "outputs": [],
   "source": []
  }
 ],
 "metadata": {
  "kernelspec": {
   "display_name": "Python 3 (ipykernel)",
   "language": "python",
   "name": "python3"
  },
  "language_info": {
   "codemirror_mode": {
    "name": "ipython",
    "version": 3
   },
   "file_extension": ".py",
   "mimetype": "text/x-python",
   "name": "python",
   "nbconvert_exporter": "python",
   "pygments_lexer": "ipython3",
   "version": "3.9.5"
  }
 },
 "nbformat": 4,
 "nbformat_minor": 5
}
