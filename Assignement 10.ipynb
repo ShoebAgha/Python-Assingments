{
 "cells": [
  {
   "cell_type": "code",
   "execution_count": 2,
   "id": "c96889bb",
   "metadata": {},
   "outputs": [
    {
     "data": {
      "text/plain": [
       "270"
      ]
     },
     "execution_count": 2,
     "metadata": {},
     "output_type": "execute_result"
    }
   ],
   "source": [
    "#Write a Python program to find sum of elements in list?\n",
    "list1=[1,2,3,4,5,235,6,7,5,2]\n",
    "sum1=0\n",
    "for i in list1:\n",
    "    sum1=sum1+i\n",
    "sum1    "
   ]
  },
  {
   "cell_type": "code",
   "execution_count": 3,
   "id": "9693cc52",
   "metadata": {},
   "outputs": [
    {
     "data": {
      "text/plain": [
       "324"
      ]
     },
     "execution_count": 3,
     "metadata": {},
     "output_type": "execute_result"
    }
   ],
   "source": [
    "#Write a Python program to Multiply all numbers in the list?\n",
    "list2=[1,2,3,54]\n",
    "prod=1\n",
    "for i in list2:\n",
    "    prod=prod*i\n",
    "prod    "
   ]
  },
  {
   "cell_type": "code",
   "execution_count": 4,
   "id": "70f5bab0",
   "metadata": {},
   "outputs": [
    {
     "data": {
      "text/plain": [
       "1"
      ]
     },
     "execution_count": 4,
     "metadata": {},
     "output_type": "execute_result"
    }
   ],
   "source": [
    "#Write a Python program to find smallest number in a list?\n",
    "list3=[1,2,3,4,5,6,87]\n",
    "min(list3)\n"
   ]
  },
  {
   "cell_type": "code",
   "execution_count": 5,
   "id": "ed935f46",
   "metadata": {},
   "outputs": [
    {
     "data": {
      "text/plain": [
       "87"
      ]
     },
     "execution_count": 5,
     "metadata": {},
     "output_type": "execute_result"
    }
   ],
   "source": [
    "#Write a Python program to find largest number in a list?\n",
    "max(list3)"
   ]
  },
  {
   "cell_type": "code",
   "execution_count": 6,
   "id": "53f712f8",
   "metadata": {},
   "outputs": [
    {
     "data": {
      "text/plain": [
       "2"
      ]
     },
     "execution_count": 6,
     "metadata": {},
     "output_type": "execute_result"
    }
   ],
   "source": [
    "#Write a Python program to find second largest number in a list?\n",
    "list4=[1,2,56,56]\n",
    "list5=list(set(list4))\n",
    "list5.remove(max(list5))\n",
    "max(list5)"
   ]
  },
  {
   "cell_type": "code",
   "execution_count": 32,
   "id": "3b4da289",
   "metadata": {},
   "outputs": [],
   "source": [
    "#Write a Python program to find N largest elements from a list?\n",
    "def nlargest(list1,n):\n",
    "    list2=list(set(list1))\n",
    "    list2.sort()\n",
    "    if n==len(list2) or n>len(list2):\n",
    "        print(list2[::-1])\n",
    "    else:\n",
    "        print(list2[len(list2):len(list2)-n-1:-1])\n",
    "    \n",
    "    "
   ]
  },
  {
   "cell_type": "code",
   "execution_count": 35,
   "id": "d3c9d07b",
   "metadata": {},
   "outputs": [
    {
     "name": "stdout",
     "output_type": "stream",
     "text": [
      "[2434]\n"
     ]
    }
   ],
   "source": [
    "l=[1, 2, 3, 4, 6, 6, 678, 2434]\n",
    "nlargest(l,1)"
   ]
  },
  {
   "cell_type": "code",
   "execution_count": 36,
   "id": "cf7198bd",
   "metadata": {},
   "outputs": [],
   "source": [
    "#Write a Python program to print even numbers in a list?\n",
    "def even(list1):\n",
    "    for i in list1:\n",
    "        if i%2==0:\n",
    "            print(i)\n",
    "        else:\n",
    "            continue"
   ]
  },
  {
   "cell_type": "code",
   "execution_count": 37,
   "id": "13be40df",
   "metadata": {},
   "outputs": [
    {
     "name": "stdout",
     "output_type": "stream",
     "text": [
      "2\n",
      "4\n",
      "6\n",
      "6\n",
      "678\n",
      "2434\n"
     ]
    }
   ],
   "source": [
    "even(l)"
   ]
  },
  {
   "cell_type": "code",
   "execution_count": 38,
   "id": "5f3179ce",
   "metadata": {},
   "outputs": [],
   "source": [
    "#Write a Python program to print odd numbers in a List?\n",
    "def odd(list1):\n",
    "    for i in list1:\n",
    "        if i%2!=0:\n",
    "            print(i)\n",
    "        else:\n",
    "            continue"
   ]
  },
  {
   "cell_type": "code",
   "execution_count": 39,
   "id": "b549ef47",
   "metadata": {},
   "outputs": [
    {
     "name": "stdout",
     "output_type": "stream",
     "text": [
      "1\n",
      "3\n"
     ]
    }
   ],
   "source": [
    "odd(l)"
   ]
  },
  {
   "cell_type": "code",
   "execution_count": 58,
   "id": "53800ba6",
   "metadata": {},
   "outputs": [],
   "source": [
    "#Write a Python program to Remove empty List from List?\n",
    "def remove_empty(list1):\n",
    "    i=0\n",
    "    while i < len(list1):\n",
    "        if type(list1[i])==list and len(list1[i])==0:\n",
    "            list1.remove(list1[i])\n",
    "            i=i-1\n",
    "        else:\n",
    "            i=i+1\n",
    "            \n",
    "    return list1       "
   ]
  },
  {
   "cell_type": "code",
   "execution_count": 63,
   "id": "aa43517e",
   "metadata": {},
   "outputs": [],
   "source": [
    "list11=[1,2,[1,2],[],[],[],45,[],[12,3]]\n"
   ]
  },
  {
   "cell_type": "code",
   "execution_count": 64,
   "id": "20c0c413",
   "metadata": {},
   "outputs": [
    {
     "data": {
      "text/plain": [
       "[1, 2, [1, 2], 45, [12, 3]]"
      ]
     },
     "execution_count": 64,
     "metadata": {},
     "output_type": "execute_result"
    }
   ],
   "source": [
    "remove_empty(list11)"
   ]
  },
  {
   "cell_type": "code",
   "execution_count": 67,
   "id": "5138f364",
   "metadata": {},
   "outputs": [],
   "source": [
    "#Write a Python program to Cloning or Copying a list?\n",
    "def Copying(list1):\n",
    "    list_copy = list1\n",
    "    return list_copy"
   ]
  },
  {
   "cell_type": "code",
   "execution_count": 68,
   "id": "93b02a4d",
   "metadata": {},
   "outputs": [
    {
     "data": {
      "text/plain": [
       "[1, 2, 3]"
      ]
     },
     "execution_count": 68,
     "metadata": {},
     "output_type": "execute_result"
    }
   ],
   "source": [
    "Copying([1,2,3])"
   ]
  },
  {
   "cell_type": "code",
   "execution_count": 69,
   "id": "eb2b2db3",
   "metadata": {},
   "outputs": [],
   "source": [
    "#Write a Python program to Count occurrences of an element in a list?\n",
    "def count(list1,a):\n",
    "    cnt=list1.count(a)\n",
    "    return cnt\n",
    "    "
   ]
  },
  {
   "cell_type": "code",
   "execution_count": 70,
   "id": "8ef44f89",
   "metadata": {},
   "outputs": [
    {
     "data": {
      "text/plain": [
       "3"
      ]
     },
     "execution_count": 70,
     "metadata": {},
     "output_type": "execute_result"
    }
   ],
   "source": [
    "list12=[1,1,1,12,3,4,5]\n",
    "count(list12,1)"
   ]
  },
  {
   "cell_type": "code",
   "execution_count": null,
   "id": "d23a8f0f",
   "metadata": {},
   "outputs": [],
   "source": []
  }
 ],
 "metadata": {
  "kernelspec": {
   "display_name": "Python 3 (ipykernel)",
   "language": "python",
   "name": "python3"
  },
  "language_info": {
   "codemirror_mode": {
    "name": "ipython",
    "version": 3
   },
   "file_extension": ".py",
   "mimetype": "text/x-python",
   "name": "python",
   "nbconvert_exporter": "python",
   "pygments_lexer": "ipython3",
   "version": "3.9.5"
  }
 },
 "nbformat": 4,
 "nbformat_minor": 5
}
