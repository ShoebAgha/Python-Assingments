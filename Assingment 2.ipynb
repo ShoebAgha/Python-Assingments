{
 "cells": [
  {
   "cell_type": "code",
   "execution_count": 3,
   "id": "9a2be0d7",
   "metadata": {},
   "outputs": [
    {
     "name": "stdout",
     "output_type": "stream",
     "text": [
      "Enter distance in kilometer:10\n"
     ]
    },
    {
     "data": {
      "text/plain": [
       "16.09"
      ]
     },
     "execution_count": 3,
     "metadata": {},
     "output_type": "execute_result"
    }
   ],
   "source": [
    "#Write a Python program to convert kilometers to miles?\n",
    "D=float(input('Enter distance in kilometer:'))\n",
    "D_Miles=D*1.609\n",
    "D_Miles"
   ]
  },
  {
   "cell_type": "code",
   "execution_count": 4,
   "id": "49a58555",
   "metadata": {},
   "outputs": [],
   "source": [
    "#Write a Python program to convert Celsius to Fahrenheit?"
   ]
  },
  {
   "cell_type": "code",
   "execution_count": 5,
   "id": "5800cf0c",
   "metadata": {},
   "outputs": [
    {
     "name": "stdout",
     "output_type": "stream",
     "text": [
      "Enter Temperatur in Celcius:36\n"
     ]
    },
    {
     "data": {
      "text/plain": [
       "96.8"
      ]
     },
     "execution_count": 5,
     "metadata": {},
     "output_type": "execute_result"
    }
   ],
   "source": [
    "C=float(input('Enter Temperatur in Celcius:'))\n",
    "F=C*1.8+32\n",
    "F"
   ]
  },
  {
   "cell_type": "code",
   "execution_count": 6,
   "id": "e04e2162",
   "metadata": {},
   "outputs": [
    {
     "name": "stdout",
     "output_type": "stream",
     "text": [
      "Enter the Year2022\n",
      "Enter the month8\n",
      "    August 2022\n",
      "Mo Tu We Th Fr Sa Su\n",
      " 1  2  3  4  5  6  7\n",
      " 8  9 10 11 12 13 14\n",
      "15 16 17 18 19 20 21\n",
      "22 23 24 25 26 27 28\n",
      "29 30 31\n",
      "\n"
     ]
    }
   ],
   "source": [
    "#Write a Python program to display calendar?\n",
    "import calendar\n",
    "year = int(input('Enter the Year'))\n",
    "month = int(input('Enter the month'))\n",
    "print(calendar.month(year, month))"
   ]
  },
  {
   "cell_type": "code",
   "execution_count": 7,
   "id": "42ecccc8",
   "metadata": {},
   "outputs": [],
   "source": [
    "#Write a Python program to solve quadratic equation?"
   ]
  },
  {
   "cell_type": "code",
   "execution_count": 10,
   "id": "b9c26edb",
   "metadata": {},
   "outputs": [
    {
     "name": "stdout",
     "output_type": "stream",
     "text": [
      "Enter coefficient of X**2: 1\n",
      "Enter coefficient of X: 56\n",
      "Enter constant term: 1\n",
      "Solution of quad equation is x1= -0.017862840733556595 ,x2= -55.98213715926644\n"
     ]
    }
   ],
   "source": [
    "a=float(input('Enter coefficient of X**2: '))\n",
    "b=float(input('Enter coefficient of X: '))\n",
    "c=float(input('Enter constant term: '))\n",
    "x1=(-b+(b**2-4*a*c)**0.5)/(2*a)\n",
    "x2=(-b-(b**2-4*a*c)**0.5)/(2*a)\n",
    "print('Solution of quad equation is x1=',x1,',x2=',x2)"
   ]
  },
  {
   "cell_type": "code",
   "execution_count": 14,
   "id": "f595425d",
   "metadata": {},
   "outputs": [
    {
     "data": {
      "text/plain": [
       "(4, 5)"
      ]
     },
     "execution_count": 14,
     "metadata": {},
     "output_type": "execute_result"
    }
   ],
   "source": [
    "#Write a Python program to swap two variables without temp variable?\n",
    "a,b=4,5\n",
    "a,b"
   ]
  },
  {
   "cell_type": "code",
   "execution_count": 15,
   "id": "837f794f",
   "metadata": {},
   "outputs": [
    {
     "data": {
      "text/plain": [
       "(5, 4)"
      ]
     },
     "execution_count": 15,
     "metadata": {},
     "output_type": "execute_result"
    }
   ],
   "source": [
    "b,a=a,b\n",
    "a,b\n"
   ]
  },
  {
   "cell_type": "code",
   "execution_count": null,
   "id": "0c018ead",
   "metadata": {},
   "outputs": [],
   "source": []
  }
 ],
 "metadata": {
  "kernelspec": {
   "display_name": "Python 3 (ipykernel)",
   "language": "python",
   "name": "python3"
  },
  "language_info": {
   "codemirror_mode": {
    "name": "ipython",
    "version": 3
   },
   "file_extension": ".py",
   "mimetype": "text/x-python",
   "name": "python",
   "nbconvert_exporter": "python",
   "pygments_lexer": "ipython3",
   "version": "3.9.5"
  }
 },
 "nbformat": 4,
 "nbformat_minor": 5
}
